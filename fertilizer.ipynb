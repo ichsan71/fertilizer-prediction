{
 "cells": [
  {
   "cell_type": "code",
   "execution_count": 2,
   "id": "217eb011",
   "metadata": {},
   "outputs": [],
   "source": [
    "import tensorflow_decision_forests as tfdf\n",
    "import os\n",
    "import numpy as np\n",
    "import pandas as pd\n",
    "import tensorflow as tf\n",
    "import math"
   ]
  },
  {
   "attachments": {},
   "cell_type": "markdown",
   "id": "26c015e6",
   "metadata": {},
   "source": [
    "Dataset"
   ]
  },
  {
   "cell_type": "code",
   "execution_count": null,
   "id": "4e3e44d1",
   "metadata": {},
   "outputs": [],
   "source": [
    "# Load a dataset into a Pandas Dataframe.\n",
    "df = pd.read_csv(\"FertilizerPrediction.csv\")\n",
    "\n",
    "# Rename the column 'Fertilizer Name' to 'New Column Name'\n",
    "df = df.rename(columns={'Temparature': 'temparature', 'Humidity ': 'humidity', 'Moisture': 'moisture', 'Soil Type': 'soil_type' , 'Crop Type': 'crop_type', 'Nitrogen': 'nitrogen', 'Potassium' : 'potassium', 'Phosphorous': 'phosphorous','Fertilizer Name': 'fertilizer'})\n",
    "\n",
    "# Display the first 3 examples.\n",
    "df.head(3)"
   ]
  },
  {
   "attachments": {},
   "cell_type": "markdown",
   "id": "9d67f8bc",
   "metadata": {},
   "source": [
    "Encode"
   ]
  },
  {
   "cell_type": "code",
   "execution_count": null,
   "id": "48ceb592",
   "metadata": {},
   "outputs": [],
   "source": [
    "# Encode the categorical labels as integers.\n",
    "#\n",
    "# Details:\n",
    "# This stage is necessary if your classification label is represented as a\n",
    "# string since Keras expects integer classification labels.\n",
    "# When using `pd_dataframe_to_tf_dataset` (see below), this step can be skipped.\n",
    "\n",
    "# Name of the label column.\n",
    "label = \"fertilizer\"\n",
    "\n",
    "classes = df[label].unique().tolist()\n",
    "print(f\"Label classes: {classes}\")\n",
    "\n",
    "df[label] = df[label].map(classes.index)\n",
    "df.head(3)"
   ]
  },
  {
   "attachments": {},
   "cell_type": "markdown",
   "id": "b9a98989",
   "metadata": {},
   "source": [
    "Split dataset"
   ]
  },
  {
   "cell_type": "code",
   "execution_count": null,
   "id": "f3f7fa27",
   "metadata": {},
   "outputs": [],
   "source": [
    "# Split the dataset into a training and a testing dataset.\n",
    "\n",
    "def split_dataset(dataset, test_ratio=0.30):\n",
    "  \"\"\"Splits a panda dataframe in two.\"\"\"\n",
    "  test_indices = np.random.rand(len(dataset)) < test_ratio\n",
    "  return dataset[~test_indices], dataset[test_indices]\n",
    "\n",
    "\n",
    "train_ds_pd, test_ds_pd = split_dataset(df)\n",
    "print(\"{} examples in training, {} examples for testing.\".format(\n",
    "    len(train_ds_pd), len(test_ds_pd)))"
   ]
  },
  {
   "cell_type": "code",
   "execution_count": null,
   "id": "654f1ea0",
   "metadata": {},
   "outputs": [],
   "source": [
    "train_ds = tfdf.keras.pd_dataframe_to_tf_dataset(train_ds_pd, label=label)\n",
    "test_ds = tfdf.keras.pd_dataframe_to_tf_dataset(test_ds_pd, label=label)"
   ]
  },
  {
   "cell_type": "code",
   "execution_count": null,
   "id": "2b623ceb",
   "metadata": {},
   "outputs": [],
   "source": [
    "# Specify the model.\n",
    "model_1 = tfdf.keras.RandomForestModel(verbose=2)\n",
    "\n",
    "# Train the model.\n",
    "model_1.fit(train_ds)"
   ]
  },
  {
   "cell_type": "code",
   "execution_count": null,
   "id": "c1705c17",
   "metadata": {},
   "outputs": [],
   "source": [
    "model_1.compile(metrics=[\"accuracy\"])\n",
    "evaluation = model_1.evaluate(test_ds, return_dict=True)\n",
    "print()\n",
    "\n",
    "for name, value in evaluation.items():\n",
    "  print(f\"{name}: {value:.4f}\")"
   ]
  },
  {
   "cell_type": "code",
   "execution_count": null,
   "id": "3529d8e7",
   "metadata": {},
   "outputs": [],
   "source": [
    "model_1.make_inspector().training_logs()"
   ]
  },
  {
   "attachments": {},
   "cell_type": "markdown",
   "id": "fd649c33",
   "metadata": {},
   "source": [
    "Visualize Model"
   ]
  },
  {
   "cell_type": "code",
   "execution_count": null,
   "id": "0619f45f",
   "metadata": {},
   "outputs": [],
   "source": [
    "import matplotlib.pyplot as plt\n",
    "\n",
    "logs = model_1.make_inspector().training_logs()\n",
    "\n",
    "plt.figure(figsize=(12, 4))\n",
    "\n",
    "plt.subplot(1, 2, 1)\n",
    "plt.plot([log.num_trees for log in logs], [log.evaluation.accuracy for log in logs])\n",
    "plt.xlabel(\"Number of trees\")\n",
    "plt.ylabel(\"Accuracy (out-of-bag)\")\n",
    "\n",
    "plt.subplot(1, 2, 2)\n",
    "plt.plot([log.num_trees for log in logs], [log.evaluation.loss for log in logs])\n",
    "plt.xlabel(\"Number of trees\")\n",
    "plt.ylabel(\"Logloss (out-of-bag)\")\n",
    "\n",
    "plt.show()"
   ]
  },
  {
   "cell_type": "code",
   "execution_count": null,
   "id": "545786cc",
   "metadata": {},
   "outputs": [],
   "source": [
    "tfdf.keras.get_all_models()"
   ]
  },
  {
   "cell_type": "code",
   "execution_count": null,
   "id": "832dc6b2",
   "metadata": {},
   "outputs": [],
   "source": [
    "import dtreeviz\n",
    "\n",
    "from matplotlib import pyplot as plt\n",
    "from IPython import display\n",
    "\n",
    "# avoid \"Arial font not found warnings\"\n",
    "import logging\n",
    "logging.getLogger('matplotlib.font_manager').setLevel(level=logging.CRITICAL)\n",
    "\n",
    "display.set_matplotlib_formats('retina') # generate hires plots\n",
    "\n",
    "np.random.seed(1234)  # reproducible plots/data for explanatory reasons"
   ]
  },
  {
   "cell_type": "code",
   "execution_count": null,
   "id": "b50a02a6",
   "metadata": {},
   "outputs": [],
   "source": [
    "# Tell dtreeviz about training data and model\n",
    "fertilizer_features = [f.name for f in model_1.make_inspector().features()]\n",
    "viz_cmodel = dtreeviz.model(model_1,\n",
    "                           tree_index=3,\n",
    "                           X_train=train_ds_pd[fertilizer_features],\n",
    "                           y_train=train_ds_pd[label],\n",
    "                           feature_names=fertilizer_features,\n",
    "                           target_name=label,\n",
    "                           class_names=classes)"
   ]
  },
  {
   "cell_type": "code",
   "execution_count": null,
   "id": "098414ef",
   "metadata": {},
   "outputs": [],
   "source": [
    "viz_cmodel.view(scale=1.2)"
   ]
  },
  {
   "cell_type": "code",
   "execution_count": null,
   "id": "968d0287",
   "metadata": {},
   "outputs": [],
   "source": [
    "viz_cmodel.view(leaftype='barh', scale=.75)"
   ]
  },
  {
   "cell_type": "code",
   "execution_count": null,
   "id": "d2af1d4f",
   "metadata": {},
   "outputs": [],
   "source": [
    "x = train_ds_pd[fertilizer_features].iloc[20]\n",
    "viz_cmodel.view(x=x, scale=.75)"
   ]
  },
  {
   "attachments": {},
   "cell_type": "markdown",
   "id": "93ddfcae",
   "metadata": {},
   "source": [
    "Save model"
   ]
  },
  {
   "cell_type": "code",
   "execution_count": null,
   "id": "8a3607ff",
   "metadata": {},
   "outputs": [],
   "source": [
    "# VERSION = 1\n",
    "# !mkdir -p save_model/{VERSION}\n",
    "# tf.keras.models.save_model(model_1, os.path.join('save_model', str(VERSION)))\n",
    "\n",
    "VERSION = 1\n",
    "save_path = '/save_model'  # Specify the absolute path to the \"models/\" folder\n",
    "\n",
    "# Create the directory if it doesn't exist\n",
    "os.makedirs(os.path.join(save_path, str(VERSION)), exist_ok=True)\n",
    "\n",
    "# Save the model to the specified path\n",
    "tf.keras.models.save_model(model_1, os.path.join(save_path, str(VERSION)))\n"
   ]
  },
  {
   "attachments": {},
   "cell_type": "markdown",
   "id": "c9bec2a1",
   "metadata": {},
   "source": [
    "Predict"
   ]
  },
  {
   "attachments": {},
   "cell_type": "markdown",
   "id": "9af963e4",
   "metadata": {},
   "source": [
    "# Load the saved model\n",
    "model = tf.keras.models.load_model('save_model/1')\n",
    "\n",
    "# Prepare the input data for prediction\n",
    "input_data = {\n",
    "    'crop_type': tf.constant(['Maize']),\n",
    "    'humidity': tf.constant([26], dtype=tf.int64),\n",
    "    'moisture': tf.constant([52], dtype=tf.int64),\n",
    "    'nitrogen': tf.constant([38], dtype=tf.int64),\n",
    "    'phosphorous': tf.constant([0], dtype=tf.int64),\n",
    "    'potassium': tf.constant([0], dtype=tf.int64),\n",
    "    'soil_type': tf.constant(['Black']),\n",
    "    'temparature': tf.constant([37], dtype=tf.int64),\n",
    "}\n",
    "\n",
    "predictions = model.predict(input_data)\n",
    "predicted_label = tf.argmax(predictions, axis=1)[0].numpy()\n",
    "\n",
    "# Define the label mappings\n",
    "label_mappings = {\n",
    "    0: \"10-26-26\",\n",
    "    1: \"14-35-14\",\n",
    "    2: \"17-17-17\",\n",
    "    3: \"20-20\",\n",
    "    4: \"28-28\",\n",
    "    5: \"DAP\",\n",
    "    6: \"Urea\"\n",
    "}\n",
    "\n",
    "# Print the predicted label\n",
    "if predicted_label in label_mappings:\n",
    "    print(label_mappings[predicted_label])\n",
    "else:\n",
    "    print(\"Unknown label\")"
   ]
  }
 ],
 "metadata": {
  "kernelspec": {
   "display_name": "Python 3 (ipykernel)",
   "language": "python",
   "name": "python3"
  },
  "language_info": {
   "codemirror_mode": {
    "name": "ipython",
    "version": 3
   },
   "file_extension": ".py",
   "mimetype": "text/x-python",
   "name": "python",
   "nbconvert_exporter": "python",
   "pygments_lexer": "ipython3",
   "version": "3.10.5"
  }
 },
 "nbformat": 4,
 "nbformat_minor": 5
}
